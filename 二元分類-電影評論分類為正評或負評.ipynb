{
 "cells": [
  {
   "cell_type": "code",
   "execution_count": 77,
   "id": "5cf87ed8",
   "metadata": {},
   "outputs": [],
   "source": [
    "## 載入IMDB資料集\n",
    "#從keras.datasets套件中匯入imdb\n",
    "from keras.datasets import imdb\n",
    "#從imdb中讀取資料\n",
    "(train_data, train_labels),(test_data, test_labels) = imdb.load_data(num_words=10000)"
   ]
  },
  {
   "cell_type": "code",
   "execution_count": 78,
   "id": "1e861fb8",
   "metadata": {},
   "outputs": [
    {
     "name": "stdout",
     "output_type": "stream",
     "text": [
      "(25000,) (25000,) (25000,) (25000,)\n"
     ]
    }
   ],
   "source": [
    "# 訓練/測試資料的 X/y 維度\n",
    "print(train_data.shape, train_labels.shape, test_data.shape, test_labels.shape)"
   ]
  },
  {
   "cell_type": "code",
   "execution_count": 79,
   "id": "e2e8ed73",
   "metadata": {},
   "outputs": [
    {
     "data": {
      "text/plain": [
       "[1,\n",
       " 14,\n",
       " 22,\n",
       " 16,\n",
       " 43,\n",
       " 530,\n",
       " 973,\n",
       " 1622,\n",
       " 1385,\n",
       " 65,\n",
       " 458,\n",
       " 4468,\n",
       " 66,\n",
       " 3941,\n",
       " 4,\n",
       " 173,\n",
       " 36,\n",
       " 256,\n",
       " 5,\n",
       " 25,\n",
       " 100,\n",
       " 43,\n",
       " 838,\n",
       " 112,\n",
       " 50,\n",
       " 670,\n",
       " 2,\n",
       " 9,\n",
       " 35,\n",
       " 480,\n",
       " 284,\n",
       " 5,\n",
       " 150,\n",
       " 4,\n",
       " 172,\n",
       " 112,\n",
       " 167,\n",
       " 2,\n",
       " 336,\n",
       " 385,\n",
       " 39,\n",
       " 4,\n",
       " 172,\n",
       " 4536,\n",
       " 1111,\n",
       " 17,\n",
       " 546,\n",
       " 38,\n",
       " 13,\n",
       " 447,\n",
       " 4,\n",
       " 192,\n",
       " 50,\n",
       " 16,\n",
       " 6,\n",
       " 147,\n",
       " 2025,\n",
       " 19,\n",
       " 14,\n",
       " 22,\n",
       " 4,\n",
       " 1920,\n",
       " 4613,\n",
       " 469,\n",
       " 4,\n",
       " 22,\n",
       " 71,\n",
       " 87,\n",
       " 12,\n",
       " 16,\n",
       " 43,\n",
       " 530,\n",
       " 38,\n",
       " 76,\n",
       " 15,\n",
       " 13,\n",
       " 1247,\n",
       " 4,\n",
       " 22,\n",
       " 17,\n",
       " 515,\n",
       " 17,\n",
       " 12,\n",
       " 16,\n",
       " 626,\n",
       " 18,\n",
       " 2,\n",
       " 5,\n",
       " 62,\n",
       " 386,\n",
       " 12,\n",
       " 8,\n",
       " 316,\n",
       " 8,\n",
       " 106,\n",
       " 5,\n",
       " 4,\n",
       " 2223,\n",
       " 5244,\n",
       " 16,\n",
       " 480,\n",
       " 66,\n",
       " 3785,\n",
       " 33,\n",
       " 4,\n",
       " 130,\n",
       " 12,\n",
       " 16,\n",
       " 38,\n",
       " 619,\n",
       " 5,\n",
       " 25,\n",
       " 124,\n",
       " 51,\n",
       " 36,\n",
       " 135,\n",
       " 48,\n",
       " 25,\n",
       " 1415,\n",
       " 33,\n",
       " 6,\n",
       " 22,\n",
       " 12,\n",
       " 215,\n",
       " 28,\n",
       " 77,\n",
       " 52,\n",
       " 5,\n",
       " 14,\n",
       " 407,\n",
       " 16,\n",
       " 82,\n",
       " 2,\n",
       " 8,\n",
       " 4,\n",
       " 107,\n",
       " 117,\n",
       " 5952,\n",
       " 15,\n",
       " 256,\n",
       " 4,\n",
       " 2,\n",
       " 7,\n",
       " 3766,\n",
       " 5,\n",
       " 723,\n",
       " 36,\n",
       " 71,\n",
       " 43,\n",
       " 530,\n",
       " 476,\n",
       " 26,\n",
       " 400,\n",
       " 317,\n",
       " 46,\n",
       " 7,\n",
       " 4,\n",
       " 2,\n",
       " 1029,\n",
       " 13,\n",
       " 104,\n",
       " 88,\n",
       " 4,\n",
       " 381,\n",
       " 15,\n",
       " 297,\n",
       " 98,\n",
       " 32,\n",
       " 2071,\n",
       " 56,\n",
       " 26,\n",
       " 141,\n",
       " 6,\n",
       " 194,\n",
       " 7486,\n",
       " 18,\n",
       " 4,\n",
       " 226,\n",
       " 22,\n",
       " 21,\n",
       " 134,\n",
       " 476,\n",
       " 26,\n",
       " 480,\n",
       " 5,\n",
       " 144,\n",
       " 30,\n",
       " 5535,\n",
       " 18,\n",
       " 51,\n",
       " 36,\n",
       " 28,\n",
       " 224,\n",
       " 92,\n",
       " 25,\n",
       " 104,\n",
       " 4,\n",
       " 226,\n",
       " 65,\n",
       " 16,\n",
       " 38,\n",
       " 1334,\n",
       " 88,\n",
       " 12,\n",
       " 16,\n",
       " 283,\n",
       " 5,\n",
       " 16,\n",
       " 4472,\n",
       " 113,\n",
       " 103,\n",
       " 32,\n",
       " 15,\n",
       " 16,\n",
       " 5345,\n",
       " 19,\n",
       " 178,\n",
       " 32]"
      ]
     },
     "execution_count": 79,
     "metadata": {},
     "output_type": "execute_result"
    }
   ],
   "source": [
    "train_data[0]"
   ]
  },
  {
   "cell_type": "code",
   "execution_count": 80,
   "id": "31b09f67",
   "metadata": {},
   "outputs": [
    {
     "data": {
      "text/plain": [
       "1"
      ]
     },
     "execution_count": 80,
     "metadata": {},
     "output_type": "execute_result"
    }
   ],
   "source": [
    "#取得第一筆的評論的分類標籤 1 = 正面 0 =負面\n",
    "train_labels[0]"
   ]
  },
  {
   "cell_type": "code",
   "execution_count": 81,
   "id": "b4b72c8c",
   "metadata": {},
   "outputs": [
    {
     "data": {
      "text/plain": [
       "9999"
      ]
     },
     "execution_count": 81,
     "metadata": {},
     "output_type": "execute_result"
    }
   ],
   "source": [
    "#找出train_data內的最大數字,確認num_words參數是否有效:\n",
    "max([max(sequence) for sequence in train_data])"
   ]
  },
  {
   "cell_type": "code",
   "execution_count": 82,
   "id": "c9679c55",
   "metadata": {},
   "outputs": [],
   "source": [
    "# 先前每個數字代表一個英文單字 以下程式將數字還原英文單文:\n",
    "word_index = imdb.get_word_index()\n",
    "reverse_word_index = dict([(value, key) for (key, value) in word_index.items()])\n",
    "decoded_review = ''.join([reverse_word_index.get(i -3,'?') for i in train_data[0]])"
   ]
  },
  {
   "cell_type": "code",
   "execution_count": 83,
   "id": "5c3d589c",
   "metadata": {},
   "outputs": [
    {
     "data": {
      "text/plain": [
       "551"
      ]
     },
     "execution_count": 83,
     "metadata": {},
     "output_type": "execute_result"
    }
   ],
   "source": [
    "word_index.get('kid')"
   ]
  },
  {
   "cell_type": "markdown",
   "id": "85b898c5",
   "metadata": {},
   "source": [
    "# 資料前處理"
   ]
  },
  {
   "cell_type": "code",
   "execution_count": 84,
   "id": "384d8974",
   "metadata": {},
   "outputs": [],
   "source": [
    "#將2層的整數list編碼成二元矩陣\n",
    "import numpy as np\n",
    "\n",
    "def vectorize_sequences(sequences, dimension=10000):\n",
    "    results = np.zeros((len(sequences),dimension)) # 建立全為0的矩陣\n",
    "    for i, sequence in enumerate(sequences): # python 內建enumerate(容器) 可以傳回替容器(如串列 tuple)元素 加上編號\n",
    "        results[i, sequence] = 1.\n",
    "    return results\n",
    "\n",
    "x_train = vectorize_sequences(train_data)\n",
    "x_test = vectorize_sequences(test_data)"
   ]
  },
  {
   "cell_type": "code",
   "execution_count": 85,
   "id": "cea3a4fa",
   "metadata": {},
   "outputs": [],
   "source": [
    "# 標籤資料向量化\n",
    "y_train = np.asarray(train_labels).astype('float32')\n",
    "y_test = np.asarray(test_labels).astype('float32')"
   ]
  },
  {
   "cell_type": "code",
   "execution_count": 86,
   "id": "5f8b35d6",
   "metadata": {},
   "outputs": [
    {
     "data": {
      "text/plain": [
       "array([0., 1., 1., ..., 0., 0., 0.])"
      ]
     },
     "execution_count": 86,
     "metadata": {},
     "output_type": "execute_result"
    }
   ],
   "source": [
    "x_train[0] #查看"
   ]
  },
  {
   "cell_type": "code",
   "execution_count": 87,
   "id": "b4084233",
   "metadata": {},
   "outputs": [
    {
     "data": {
      "text/plain": [
       "1.0"
      ]
     },
     "execution_count": 87,
     "metadata": {},
     "output_type": "execute_result"
    }
   ],
   "source": [
    "y_train[0]"
   ]
  },
  {
   "cell_type": "code",
   "execution_count": 88,
   "id": "251a2944",
   "metadata": {},
   "outputs": [
    {
     "data": {
      "text/plain": [
       "2"
      ]
     },
     "execution_count": 88,
     "metadata": {},
     "output_type": "execute_result"
    }
   ],
   "source": [
    "x_train.ndim #.ndim 查看有幾階(ndim屬性)"
   ]
  },
  {
   "cell_type": "code",
   "execution_count": 89,
   "id": "348dbce1",
   "metadata": {},
   "outputs": [
    {
     "data": {
      "text/plain": [
       "(25000, 10000)"
      ]
     },
     "execution_count": 89,
     "metadata": {},
     "output_type": "execute_result"
    }
   ],
   "source": [
    "x_train.shape #.shape查看形狀"
   ]
  },
  {
   "cell_type": "code",
   "execution_count": 90,
   "id": "4e6003f4",
   "metadata": {},
   "outputs": [
    {
     "data": {
      "text/plain": [
       "dtype('float64')"
      ]
     },
     "execution_count": 90,
     "metadata": {},
     "output_type": "execute_result"
    }
   ],
   "source": [
    "x_train.dtype #.dtype查看屬性"
   ]
  },
  {
   "cell_type": "code",
   "execution_count": 91,
   "id": "d93c2385",
   "metadata": {},
   "outputs": [
    {
     "data": {
      "text/plain": [
       "[(0, 'a'), (1, 'b'), (2, 'c')]"
      ]
     },
     "execution_count": 91,
     "metadata": {},
     "output_type": "execute_result"
    }
   ],
   "source": [
    "#enumerate(容器) 用法\n",
    "s = ['a','b','c']\n",
    "list(enumerate(s))"
   ]
  },
  {
   "cell_type": "markdown",
   "id": "f16287ee",
   "metadata": {},
   "source": [
    "# 模型定義"
   ]
  },
  {
   "cell_type": "code",
   "execution_count": 96,
   "id": "48f87f08",
   "metadata": {},
   "outputs": [],
   "source": [
    "from keras import models\n",
    "from keras import layers\n",
    "\n",
    "model = models.Sequential() #建立一個網路層\n",
    "model.add(layers.Dense(16, activation='relu',input_shape=(10000, ))) #輸入層\n",
    "model.add(layers.Dense(16, activation='relu')) #隱藏層\n",
    "model.add(layers.Dense(1, activation='relu')) #輸出層\n",
    "          "
   ]
  },
  {
   "cell_type": "code",
   "execution_count": 97,
   "id": "887cdccb",
   "metadata": {},
   "outputs": [],
   "source": [
    "# 設定優化器(optimizer)、損失函數(loss)、效能衡量指標(metrics)的類別\n",
    "model.compile(optimizer='rmsprop',\n",
    "              loss='binary_crossentropy',\n",
    "              metrics=['accuracy'])"
   ]
  },
  {
   "cell_type": "code",
   "execution_count": 112,
   "id": "70a1882f",
   "metadata": {},
   "outputs": [],
   "source": [
    "#設定驗證資料集\n",
    "#前一萬個做為驗證資料集\n",
    "x_val = x_train[:10000]\n",
    "partial_x_train = x_train[10000:]\n",
    "#前一萬個做為驗證標籤\n",
    "y_val = y_train[:10000]\n",
    "partial_y_train = y_train[10000:]"
   ]
  },
  {
   "cell_type": "code",
   "execution_count": 113,
   "id": "7022ff9e",
   "metadata": {},
   "outputs": [
    {
     "name": "stdout",
     "output_type": "stream",
     "text": [
      "Epoch 1/20\n",
      "30/30 [==============================] - 1s 37ms/step - loss: 1.0214 - acc: 0.5157 - val_loss: 0.7022 - val_acc: 0.5623\n",
      "Epoch 2/20\n",
      "30/30 [==============================] - 1s 17ms/step - loss: 0.5703 - acc: 0.7076 - val_loss: 0.4368 - val_acc: 0.8030\n",
      "Epoch 3/20\n",
      "30/30 [==============================] - 0s 16ms/step - loss: 0.3672 - acc: 0.8605 - val_loss: 0.3708 - val_acc: 0.8670\n",
      "Epoch 4/20\n",
      "30/30 [==============================] - 1s 19ms/step - loss: 0.2682 - acc: 0.9063 - val_loss: 0.4038 - val_acc: 0.8758\n",
      "Epoch 5/20\n",
      "30/30 [==============================] - 0s 16ms/step - loss: 0.2201 - acc: 0.9205 - val_loss: 0.4220 - val_acc: 0.8819\n",
      "Epoch 6/20\n",
      "30/30 [==============================] - 1s 18ms/step - loss: 0.1871 - acc: 0.9375 - val_loss: 0.4442 - val_acc: 0.8892\n",
      "Epoch 7/20\n",
      "30/30 [==============================] - 1s 18ms/step - loss: 0.1489 - acc: 0.9517 - val_loss: 0.4954 - val_acc: 0.8873\n",
      "Epoch 8/20\n",
      "30/30 [==============================] - 1s 17ms/step - loss: 0.1279 - acc: 0.9593 - val_loss: 0.5740 - val_acc: 0.8852\n",
      "Epoch 9/20\n",
      "30/30 [==============================] - 1s 18ms/step - loss: 0.1095 - acc: 0.9688 - val_loss: 0.5990 - val_acc: 0.8848\n",
      "Epoch 10/20\n",
      "30/30 [==============================] - 1s 18ms/step - loss: 0.0933 - acc: 0.9759 - val_loss: 0.6418 - val_acc: 0.8809\n",
      "Epoch 11/20\n",
      "30/30 [==============================] - 1s 19ms/step - loss: 0.0807 - acc: 0.9822 - val_loss: 0.7542 - val_acc: 0.8790\n",
      "Epoch 12/20\n",
      "30/30 [==============================] - 0s 16ms/step - loss: 0.0689 - acc: 0.9863 - val_loss: 0.9008 - val_acc: 0.8646\n",
      "Epoch 13/20\n",
      "30/30 [==============================] - 1s 19ms/step - loss: 0.0628 - acc: 0.9895 - val_loss: 0.8328 - val_acc: 0.8760\n",
      "Epoch 14/20\n",
      "30/30 [==============================] - 1s 18ms/step - loss: 0.0530 - acc: 0.9927 - val_loss: 0.8796 - val_acc: 0.8721\n",
      "Epoch 15/20\n",
      "30/30 [==============================] - 1s 18ms/step - loss: 0.0491 - acc: 0.9939 - val_loss: 0.9700 - val_acc: 0.8751\n",
      "Epoch 16/20\n",
      "30/30 [==============================] - 0s 16ms/step - loss: 0.0450 - acc: 0.9957 - val_loss: 0.9746 - val_acc: 0.8736\n",
      "Epoch 17/20\n",
      "30/30 [==============================] - 1s 20ms/step - loss: 0.0432 - acc: 0.9962 - val_loss: 1.0433 - val_acc: 0.8722\n",
      "Epoch 18/20\n",
      "30/30 [==============================] - 1s 17ms/step - loss: 0.0400 - acc: 0.9969 - val_loss: 1.0591 - val_acc: 0.8723\n",
      "Epoch 19/20\n",
      "30/30 [==============================] - 1s 18ms/step - loss: 0.0365 - acc: 0.9975 - val_loss: 1.1775 - val_acc: 0.8637\n",
      "Epoch 20/20\n",
      "30/30 [==============================] - 0s 16ms/step - loss: 0.0356 - acc: 0.9975 - val_loss: 1.1042 - val_acc: 0.8703\n"
     ]
    }
   ],
   "source": [
    "model.compile(optimizer='rmsprop',\n",
    "              loss='binary_crossentropy',\n",
    "              metrics=['acc'])\n",
    "              \n",
    "history = model.fit(partial_x_train, partial_y_train, epochs=20, validation_data = (x_val,y_val) ,batch_size=512)        "
   ]
  },
  {
   "cell_type": "code",
   "execution_count": 114,
   "id": "acd5506a",
   "metadata": {},
   "outputs": [
    {
     "data": {
      "text/plain": [
       "dict_keys(['loss', 'acc', 'val_loss', 'val_acc'])"
      ]
     },
     "execution_count": 114,
     "metadata": {},
     "output_type": "execute_result"
    }
   ],
   "source": [
    "history.history.keys()"
   ]
  },
  {
   "cell_type": "code",
   "execution_count": 115,
   "id": "7d2cf4f8",
   "metadata": {},
   "outputs": [
    {
     "data": {
      "text/plain": [
       "<matplotlib.legend.Legend at 0x197431dbfd0>"
      ]
     },
     "execution_count": 115,
     "metadata": {},
     "output_type": "execute_result"
    },
    {
     "data": {
      "image/png": "[encoded data removed]",
      "text/plain": [
       "<Figure size 800x600 with 1 Axes>"
      ]
     },
     "metadata": {},
     "output_type": "display_data"
    }
   ],
   "source": [
    "# 對訓練過程的準確率繪圖\n",
    "import matplotlib.pyplot as plt\n",
    "\n",
    "plt.rcParams['font.sans-serif'] = ['Microsoft JhengHei'] \n",
    "plt.rcParams['axes.unicode_minus'] = False\n",
    "\n",
    "plt.figure(figsize=(8, 6))\n",
    "plt.plot(history.history['acc'], 'r', label='訓練準確率')\n",
    "plt.plot(history.history['val_acc'], 'g', label='驗證準確率')\n",
    "plt.legend()"
   ]
  },
  {
   "cell_type": "code",
   "execution_count": 116,
   "id": "d3457159",
   "metadata": {},
   "outputs": [
    {
     "data": {
      "text/plain": [
       "<matplotlib.legend.Legend at 0x19738f71650>"
      ]
     },
     "execution_count": 116,
     "metadata": {},
     "output_type": "execute_result"
    },
    {
     "data": {
      "image/png": "[encoded data removed]",
      "text/plain": [
       "<Figure size 800x600 with 1 Axes>"
      ]
     },
     "metadata": {},
     "output_type": "display_data"
    }
   ],
   "source": [
    "# 對訓練過程的損失繪圖\n",
    "import matplotlib.pyplot as plt\n",
    "\n",
    "plt.figure(figsize=(8, 6))\n",
    "plt.plot(history.history['loss'], 'r', label='訓練損失')\n",
    "plt.plot(history.history['val_loss'], 'g', label='驗證損失')\n",
    "plt.legend()"
   ]
  },
  {
   "cell_type": "code",
   "execution_count": 119,
   "id": "39e0400c",
   "metadata": {},
   "outputs": [
    {
     "name": "stdout",
     "output_type": "stream",
     "text": [
      "782/782 [==============================] - 3s 4ms/step - loss: 1.1646 - acc: 0.8608\n"
     ]
    },
    {
     "data": {
      "text/plain": [
       "[1.1645866632461548, 0.86080002784729]"
      ]
     },
     "execution_count": 119,
     "metadata": {},
     "output_type": "execute_result"
    }
   ],
   "source": [
    "results = model.evaluate(x_test, y_test)\n",
    "results"
   ]
  },
  {
   "cell_type": "code",
   "execution_count": 125,
   "id": "f7f71772",
   "metadata": {},
   "outputs": [
    {
     "name": "stdout",
     "output_type": "stream",
     "text": [
      "Epoch 1/20\n",
      "49/49 [==============================] - 2s 33ms/step - loss: 0.5915 - accuracy: 0.7450 - val_loss: 0.3076 - val_accuracy: 0.8961\n",
      "Epoch 2/20\n",
      "49/49 [==============================] - 1s 21ms/step - loss: 0.3377 - accuracy: 0.8907 - val_loss: 0.2257 - val_accuracy: 0.9260\n",
      "Epoch 3/20\n",
      "49/49 [==============================] - 1s 24ms/step - loss: 0.2673 - accuracy: 0.9181 - val_loss: 0.1975 - val_accuracy: 0.9501\n",
      "Epoch 4/20\n",
      "49/49 [==============================] - 1s 24ms/step - loss: 0.2252 - accuracy: 0.9343 - val_loss: 0.1812 - val_accuracy: 0.9535\n",
      "Epoch 5/20\n",
      "49/49 [==============================] - 1s 24ms/step - loss: 0.1986 - accuracy: 0.9480 - val_loss: 0.1424 - val_accuracy: 0.9701\n",
      "Epoch 6/20\n",
      "49/49 [==============================] - 1s 23ms/step - loss: 0.1777 - accuracy: 0.9568 - val_loss: 0.1267 - val_accuracy: 0.9767\n",
      "Epoch 7/20\n",
      "49/49 [==============================] - 1s 25ms/step - loss: 0.1615 - accuracy: 0.9640 - val_loss: 0.1289 - val_accuracy: 0.9779\n",
      "Epoch 8/20\n",
      "49/49 [==============================] - 1s 25ms/step - loss: 0.1399 - accuracy: 0.9742 - val_loss: 0.1218 - val_accuracy: 0.9765\n",
      "Epoch 9/20\n",
      "49/49 [==============================] - 1s 24ms/step - loss: 0.1379 - accuracy: 0.9768 - val_loss: 0.1557 - val_accuracy: 0.9696\n",
      "Epoch 10/20\n",
      "49/49 [==============================] - 1s 25ms/step - loss: 0.1140 - accuracy: 0.9854 - val_loss: 0.0904 - val_accuracy: 0.9916\n",
      "Epoch 11/20\n",
      "49/49 [==============================] - 1s 25ms/step - loss: 0.1114 - accuracy: 0.9863 - val_loss: 0.0825 - val_accuracy: 0.9924\n",
      "Epoch 12/20\n",
      "49/49 [==============================] - 1s 24ms/step - loss: 0.1012 - accuracy: 0.9895 - val_loss: 0.0776 - val_accuracy: 0.9942\n",
      "Epoch 13/20\n",
      "49/49 [==============================] - 1s 27ms/step - loss: 0.0998 - accuracy: 0.9910 - val_loss: 0.0767 - val_accuracy: 0.9948\n",
      "Epoch 14/20\n",
      "49/49 [==============================] - 1s 25ms/step - loss: 0.0905 - accuracy: 0.9919 - val_loss: 0.0784 - val_accuracy: 0.9948\n",
      "Epoch 15/20\n",
      "49/49 [==============================] - 1s 23ms/step - loss: 0.0922 - accuracy: 0.9919 - val_loss: 0.0769 - val_accuracy: 0.9945\n",
      "Epoch 16/20\n",
      "49/49 [==============================] - 1s 23ms/step - loss: 0.0897 - accuracy: 0.9922 - val_loss: 0.0733 - val_accuracy: 0.9952\n",
      "Epoch 17/20\n",
      "49/49 [==============================] - 1s 24ms/step - loss: 0.0932 - accuracy: 0.9920 - val_loss: 0.0726 - val_accuracy: 0.9953\n",
      "Epoch 18/20\n",
      "49/49 [==============================] - 1s 25ms/step - loss: 0.0872 - accuracy: 0.9930 - val_loss: 0.0725 - val_accuracy: 0.9952\n",
      "Epoch 19/20\n",
      "49/49 [==============================] - 1s 23ms/step - loss: 0.0904 - accuracy: 0.9929 - val_loss: 0.0723 - val_accuracy: 0.9953\n",
      "Epoch 20/20\n",
      "49/49 [==============================] - 1s 25ms/step - loss: 0.0834 - accuracy: 0.9938 - val_loss: 0.0723 - val_accuracy: 0.9953\n"
     ]
    }
   ],
   "source": [
    "model = models.Sequential() #建立一個網路層\n",
    "model.add(layers.Dense(16, activation='relu',input_shape=(10000, ))) #輸入層\n",
    "model.add(layers.Dense(16, activation='relu')) #隱藏層\n",
    "model.add(layers.Dense(1, activation='relu')) #輸出層\n",
    "\n",
    "# 設定優化器(optimizer)、損失函數(loss)、效能衡量指標(metrics)的類別\n",
    "model.compile(optimizer='rmsprop',\n",
    "              loss='binary_crossentropy',\n",
    "              metrics=['accuracy'])\n",
    "\n",
    "history = model.fit(x_train, y_train, epochs=20, validation_data = (x_val,y_val) ,batch_size=512)  "
   ]
  },
  {
   "cell_type": "code",
   "execution_count": 127,
   "id": "c3be9618",
   "metadata": {},
   "outputs": [
    {
     "data": {
      "text/plain": [
       "dict_keys(['loss', 'accuracy', 'val_loss', 'val_accuracy'])"
      ]
     },
     "execution_count": 127,
     "metadata": {},
     "output_type": "execute_result"
    }
   ],
   "source": [
    "history.history.keys()"
   ]
  },
  {
   "cell_type": "code",
   "execution_count": 128,
   "id": "e65a4c5f",
   "metadata": {},
   "outputs": [
    {
     "data": {
      "text/plain": [
       "<matplotlib.legend.Legend at 0x19736de8210>"
      ]
     },
     "execution_count": 128,
     "metadata": {},
     "output_type": "execute_result"
    },
    {
     "data": {
      "image/png": "[encoded data removed]",
      "text/plain": [
       "<Figure size 800x600 with 1 Axes>"
      ]
     },
     "metadata": {},
     "output_type": "display_data"
    }
   ],
   "source": [
    "# 對訓練過程的準確率繪圖\n",
    "import matplotlib.pyplot as plt\n",
    "\n",
    "plt.rcParams['font.sans-serif'] = ['Microsoft JhengHei'] \n",
    "plt.rcParams['axes.unicode_minus'] = False\n",
    "\n",
    "plt.figure(figsize=(8, 6))\n",
    "plt.plot(history.history['accuracy'], 'r', label='訓練準確率')\n",
    "plt.plot(history.history['val_accuracy'], 'g', label='驗證準確率')\n",
    "plt.legend()"
   ]
  },
  {
   "cell_type": "code",
   "execution_count": 129,
   "id": "e30262be",
   "metadata": {},
   "outputs": [
    {
     "data": {
      "text/plain": [
       "<matplotlib.legend.Legend at 0x1972044c710>"
      ]
     },
     "execution_count": 129,
     "metadata": {},
     "output_type": "execute_result"
    },
    {
     "data": {
      "image/png": "[encoded data removed]",
      "text/plain": [
       "<Figure size 800x600 with 1 Axes>"
      ]
     },
     "metadata": {},
     "output_type": "display_data"
    }
   ],
   "source": [
    "# 對訓練過程的損失繪圖\n",
    "import matplotlib.pyplot as plt\n",
    "\n",
    "plt.figure(figsize=(8, 6))\n",
    "plt.plot(history.history['loss'], 'r', label='訓練損失')\n",
    "plt.plot(history.history['val_loss'], 'g', label='驗證損失')\n",
    "plt.legend()"
   ]
  },
  {
   "cell_type": "code",
   "execution_count": 130,
   "id": "01998d4a",
   "metadata": {},
   "outputs": [
    {
     "name": "stdout",
     "output_type": "stream",
     "text": [
      "782/782 [==============================] - 3s 4ms/step\n"
     ]
    },
    {
     "data": {
      "text/plain": [
       "array([[0.       ],\n",
       "       [5.636931 ],\n",
       "       [0.9135682],\n",
       "       ...,\n",
       "       [0.       ],\n",
       "       [0.       ],\n",
       "       [0.889042 ]], dtype=float32)"
      ]
     },
     "execution_count": 130,
     "metadata": {},
     "output_type": "execute_result"
    }
   ],
   "source": [
    "#對測試集做判讀\n",
    "model.predict(x_test)"
   ]
  },
  {
   "cell_type": "code",
   "execution_count": null,
   "id": "fe073cc5",
   "metadata": {},
   "outputs": [],
   "source": []
  }
 ],
 "metadata": {
  "kernelspec": {
   "display_name": "Python 3 (ipykernel)",
   "language": "python",
   "name": "python3"
  },
  "language_info": {
   "codemirror_mode": {
    "name": "ipython",
    "version": 3
   },
   "file_extension": ".py",
   "mimetype": "text/x-python",
   "name": "python",
   "nbconvert_exporter": "python",
   "pygments_lexer": "ipython3",
   "version": "3.11.4"
  }
 },
 "nbformat": 4,
 "nbformat_minor": 5
}
